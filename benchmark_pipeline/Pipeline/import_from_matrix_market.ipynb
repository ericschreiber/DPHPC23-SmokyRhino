{
 "cells": [
  {
   "cell_type": "markdown",
   "metadata": {},
   "source": [
    "# Import from Matrix Market\n",
    "\n",
    "Download and convert the matrix to our dense format. \n",
    "We may have problems in the future as the matrix can be very large."
   ]
  },
  {
   "cell_type": "markdown",
   "metadata": {},
   "source": [
    "TODO: Change Dataset Name, link of matrix and the sizes of the matrices A & B that should be produced"
   ]
  },
  {
   "cell_type": "code",
   "execution_count": 2,
   "metadata": {},
   "outputs": [],
   "source": [
    "import os\n",
    "import numpy as np\n",
    "import sh"
   ]
  },
  {
   "cell_type": "code",
   "execution_count": 9,
   "metadata": {},
   "outputs": [
    {
     "name": "stderr",
     "output_type": "stream",
     "text": [
      "--2023-12-19 16:41:09--  https://suitesparse-collection-website.herokuapp.com/MM/Nemeth/nemeth15.tar.gz\n",
      "Resolving suitesparse-collection-website.herokuapp.com (suitesparse-collection-website.herokuapp.com)... 54.243.129.215, 54.224.34.30, 54.208.186.182, ...\n",
      "Connecting to suitesparse-collection-website.herokuapp.com (suitesparse-collection-website.herokuapp.com)|54.243.129.215|:443... connected.\n",
      "HTTP request sent, awaiting response... 301 Moved Permanently\n",
      "Location: http://sparse-files.engr.tamu.edu/MM/Nemeth/nemeth15.tar.gz [following]\n",
      "--2023-12-19 16:41:10--  http://sparse-files.engr.tamu.edu/MM/Nemeth/nemeth15.tar.gz\n",
      "Resolving sparse-files.engr.tamu.edu (sparse-files.engr.tamu.edu)... 52.219.176.16, 16.12.64.88, 52.219.177.176, ...\n",
      "Connecting to sparse-files.engr.tamu.edu (sparse-files.engr.tamu.edu)|52.219.176.16|:80... connected.\n",
      "HTTP request sent, awaiting response... 200 OK\n",
      "Length: 3465710 (3.3M) [application/x-tar]\n",
      "Saving to: ‘/scratch/eschreib/matrix_market_matrices/nemeth15.tar.gz’\n",
      "\n",
      "     0K .......... .......... .......... .......... ..........  1%  216K 15s\n",
      "    50K .......... .......... .......... .......... ..........  2% 10.2M 8s\n",
      "   100K .......... .......... .......... .......... ..........  4%  447K 8s\n",
      "   150K .......... .......... .......... .......... ..........  5% 93.1M 6s\n",
      "   200K .......... .......... .......... .......... ..........  7%  434K 6s\n",
      "   250K .......... .......... .......... .......... ..........  8% 68.6M 5s\n",
      "   300K .......... .......... .......... .......... .......... 10%  105M 4s\n",
      "   350K .......... .......... .......... .......... .......... 11%  167M 3s\n",
      "   400K .......... .......... .......... .......... .......... 13% 15.0M 3s\n",
      "   450K .......... .......... .......... .......... .......... 14%  449K 3s\n",
      "   500K .......... .......... .......... .......... .......... 16% 79.4M 3s\n",
      "   550K .......... .......... .......... .......... .......... 17%  119M 3s\n",
      "   600K .......... .......... .......... .......... .......... 19%  152M 2s\n",
      "   650K .......... .......... .......... .......... .......... 20%  190M 2s\n",
      "   700K .......... .......... .......... .......... .......... 22%  209M 2s\n",
      "   750K .......... .......... .......... .......... .......... 23%  199M 2s\n",
      "   800K .......... .......... .......... .......... .......... 25%  234M 2s\n",
      "   850K .......... .......... .......... .......... .......... 26% 19.5M 2s\n",
      "   900K .......... .......... .......... .......... .......... 28%  451K 2s\n",
      "   950K .......... .......... .......... .......... .......... 29% 90.6M 2s\n",
      "  1000K .......... .......... .......... .......... .......... 31%  123M 2s\n",
      "  1050K .......... .......... .......... .......... .......... 32%  125M 1s\n",
      "  1100K .......... .......... .......... .......... .......... 33%  162M 1s\n",
      "  1150K .......... .......... .......... .......... .......... 35%  180M 1s\n",
      "  1200K .......... .......... .......... .......... .......... 36%  199M 1s\n",
      "  1250K .......... .......... .......... .......... .......... 38%  210M 1s\n",
      "  1300K .......... .......... .......... .......... .......... 39%  213M 1s\n",
      "  1350K .......... .......... .......... .......... .......... 41%  181M 1s\n",
      "  1400K .......... .......... .......... .......... .......... 42%  196M 1s\n",
      "  1450K .......... .......... .......... .......... .......... 44%  214M 1s\n",
      "  1500K .......... .......... .......... .......... .......... 45%  200M 1s\n",
      "  1550K .......... .......... .......... .......... .......... 47%  165M 1s\n",
      "  1600K .......... .......... .......... .......... .......... 48%  173M 1s\n",
      "  1650K .......... .......... .......... .......... .......... 50%  179M 1s\n",
      "  1700K .......... .......... .......... .......... .......... 51%  175M 1s\n",
      "  1750K .......... .......... .......... .......... .......... 53%  177M 1s\n",
      "  1800K .......... .......... .......... .......... .......... 54%  137M 1s\n",
      "  1850K .......... .......... .......... .......... .......... 56%  451K 1s\n",
      "  1900K .......... .......... .......... .......... .......... 57%  127M 1s\n",
      "  1950K .......... .......... .......... .......... .......... 59%  130M 1s\n",
      "  2000K .......... .......... .......... .......... .......... 60% 99.9M 1s\n",
      "  2050K .......... .......... .......... .......... .......... 62%  125M 0s\n",
      "  2100K .......... .......... .......... .......... .......... 63%  172M 0s\n",
      "  2150K .......... .......... .......... .......... .......... 65%  201M 0s\n",
      "  2200K .......... .......... .......... .......... .......... 66%  171M 0s\n",
      "  2250K .......... .......... .......... .......... .......... 67%  197M 0s\n",
      "  2300K .......... .......... .......... .......... .......... 69%  214M 0s\n",
      "  2350K .......... .......... .......... .......... .......... 70%  203M 0s\n",
      "  2400K .......... .......... .......... .......... .......... 72%  164M 0s\n",
      "  2450K .......... .......... .......... .......... .......... 73%  209M 0s\n",
      "  2500K .......... .......... .......... .......... .......... 75%  213M 0s\n",
      "  2550K .......... .......... .......... .......... .......... 76%  215M 0s\n",
      "  2600K .......... .......... .......... .......... .......... 78%  150M 0s\n",
      "  2650K .......... .......... .......... .......... .......... 79%  207M 0s\n",
      "  2700K .......... .......... .......... .......... .......... 81%  215M 0s\n",
      "  2750K .......... .......... .......... .......... .......... 82%  204M 0s\n",
      "  2800K .......... .......... .......... .......... .......... 84%  173M 0s\n",
      "  2850K .......... .......... .......... .......... .......... 85%  214M 0s\n",
      "  2900K .......... .......... .......... .......... .......... 87%  211M 0s\n",
      "  2950K .......... .......... .......... .......... .......... 88%  200M 0s\n",
      "  3000K .......... .......... .......... .......... .......... 90%  170M 0s\n",
      "  3050K .......... .......... .......... .......... .......... 91%  205M 0s\n",
      "  3100K .......... .......... .......... .......... .......... 93%  207M 0s\n",
      "  3150K .......... .......... .......... .......... .......... 94%  178M 0s\n",
      "  3200K .......... .......... .......... .......... .......... 96%  187M 0s\n",
      "  3250K .......... .......... .......... .......... .......... 97%  210M 0s\n",
      "  3300K .......... .......... .......... .......... .......... 98%  203M 0s\n",
      "  3350K .......... .......... .......... ....                 100%  220M=0.8s\n",
      "\n",
      "2023-12-19 16:41:11 (4.03 MB/s) - ‘/scratch/eschreib/matrix_market_matrices/nemeth15.tar.gz’ saved [3465710/3465710]\n",
      "\n"
     ]
    },
    {
     "name": "stdout",
     "output_type": "stream",
     "text": [
      "Size of the file: 3465710 bytes\n"
     ]
    }
   ],
   "source": [
    "DATASET_NAME = \"Dataset186_c-14\"\n",
    "\n",
    "link_of_matrix = (\n",
    "    \"https://suitesparse-collection-website.herokuapp.com/MM/Nemeth/nemeth15.tar.gz\"\n",
    ")\n",
    "matrix_name = link_of_matrix.split(\"/\")[-1]\n",
    "matrix_market_folder = (\n",
    "    \"/scratch/eschreib/matrix_market_matrices\"\n",
    ")\n",
    "own_matrices_folder = (\n",
    "    \"/scratch/eschreib/matrices/\" + DATASET_NAME\n",
    ")\n",
    "# Make the own_matrices_folder if it does not exist\n",
    "if not os.path.exists(own_matrices_folder):\n",
    "    os.makedirs(own_matrices_folder)\n",
    "\n",
    "\n",
    "matrix_path = os.path.join(\n",
    "    matrix_market_folder, matrix_name.split(\".\")[0], matrix_name.split(\".\")[0] + \".mtx\"\n",
    ")\n",
    "# Check if the matrix is already downloaded\n",
    "if not os.path.exists(matrix_path):\n",
    "    # Download the matrix\n",
    "    os.system(\"wget -P \" + matrix_market_folder + \" \" + link_of_matrix)\n",
    "\n",
    "    print(\n",
    "        f\"Size of the file: {os.path.getsize(os.path.join(matrix_market_folder, matrix_name))} bytes\"\n",
    "    )\n",
    "\n",
    "    # Unzip the matrix into the same folder\n",
    "    os.system(\n",
    "        \"tar -xf \"\n",
    "        + os.path.join(matrix_market_folder, matrix_name)\n",
    "        + \" -C \"\n",
    "        + matrix_market_folder\n",
    "    )\n",
    "else:\n",
    "    print(f\"Matrix already downloaded, check {matrix_path}\")"
   ]
  },
  {
   "cell_type": "code",
   "execution_count": 10,
   "metadata": {},
   "outputs": [],
   "source": [
    "def read_file_to_list_of_lists(file_path):\n",
    "    \"\"\"The format of the file is as follows:\n",
    "    1. Lines with % are comments\n",
    "    2. The first line contains the dimensions of the matrix (num_rows, num_columns, total_num_entries)\n",
    "    3. The following lines contain the entries of the matrix in the following format:\n",
    "        row_index column_index value\n",
    "    \"\"\"\n",
    "    with open(file_path, \"r\") as file:  # returns  tuple(list, int, int, int):\n",
    "        lines = file.readlines()\n",
    "        # Remove all comments\n",
    "        lines = [line for line in lines if not line.startswith(\"%\")]\n",
    "        # Remove all empty lines\n",
    "        lines = [line for line in lines if line.strip()]\n",
    "        # Remove the first line\n",
    "        num_rows, num_columns, total_num_entries = lines.pop(0).split(\" \")\n",
    "\n",
    "        matrix = np.zeros((int(num_rows), int(num_columns)))\n",
    "        # Remove the newline character\n",
    "        lines = [line.strip() for line in lines]\n",
    "        # Split the lines into lists\n",
    "        lines = [line.split(\" \") for line in lines]\n",
    "\n",
    "        for line in lines:\n",
    "            matrix[int(line[0]) - 1, int(line[1]) - 1] = float(line[2])\n",
    "\n",
    "        return matrix, int(num_rows), int(num_columns), int(total_num_entries)"
   ]
  },
  {
   "cell_type": "code",
   "execution_count": 11,
   "metadata": {},
   "outputs": [],
   "source": [
    "def write_matrix_to_dense_format(matrix, file_path):\n",
    "    \"\"\"Safe in dense format:\n",
    "    First line: num_rows num_columns data_type (f for float)\n",
    "    Following lines: matrix entries\n",
    "    \"\"\"\n",
    "    with open(file_path, \"w\") as file:\n",
    "        file.write(f\"{matrix.shape[0]} {matrix.shape[1]} f\\n\")\n",
    "        for row in matrix:\n",
    "            for entry in row:\n",
    "                file.write(f\"{entry} \")\n",
    "            file.write(\"\\n\")"
   ]
  },
  {
   "cell_type": "code",
   "execution_count": 12,
   "metadata": {},
   "outputs": [
    {
     "name": "stdout",
     "output_type": "stream",
     "text": [
      "Number of rows: 9506, number of columns: 9506, total number of entries: 274654\n",
      "Matrix shape: (9506, 9506)\n"
     ]
    }
   ],
   "source": [
    "matrix, num_rows, num_columns, total_num_entries = read_file_to_list_of_lists(\n",
    "    matrix_path\n",
    ")\n",
    "print(\n",
    "    f\"Number of rows: {num_rows}, number of columns: {num_columns}, total number of entries: {total_num_entries}\"\n",
    ")\n",
    "print(f\"Matrix shape: {matrix.shape}\")"
   ]
  },
  {
   "cell_type": "code",
   "execution_count": 13,
   "metadata": {},
   "outputs": [
    {
     "ename": "KeyboardInterrupt",
     "evalue": "",
     "output_type": "error",
     "traceback": [
      "\u001b[0;31m---------------------------------------------------------------------------\u001b[0m",
      "\u001b[0;31mKeyboardInterrupt\u001b[0m                         Traceback (most recent call last)",
      "Cell \u001b[0;32mIn[13], line 2\u001b[0m\n\u001b[1;32m      1\u001b[0m save_path \u001b[38;5;241m=\u001b[39m os\u001b[38;5;241m.\u001b[39mpath\u001b[38;5;241m.\u001b[39mjoin(own_matrices_folder, matrix_name\u001b[38;5;241m.\u001b[39msplit(\u001b[38;5;124m\"\u001b[39m\u001b[38;5;124m.\u001b[39m\u001b[38;5;124m\"\u001b[39m)[\u001b[38;5;241m0\u001b[39m])\n\u001b[0;32m----> 2\u001b[0m \u001b[43mwrite_matrix_to_dense_format\u001b[49m\u001b[43m(\u001b[49m\u001b[43mmatrix\u001b[49m\u001b[43m,\u001b[49m\u001b[43m \u001b[49m\u001b[43msave_path\u001b[49m\u001b[43m)\u001b[49m\n",
      "Cell \u001b[0;32mIn[11], line 10\u001b[0m, in \u001b[0;36mwrite_matrix_to_dense_format\u001b[0;34m(matrix, file_path)\u001b[0m\n\u001b[1;32m      8\u001b[0m \u001b[38;5;28;01mfor\u001b[39;00m row \u001b[38;5;129;01min\u001b[39;00m matrix:\n\u001b[1;32m      9\u001b[0m     \u001b[38;5;28;01mfor\u001b[39;00m entry \u001b[38;5;129;01min\u001b[39;00m row:\n\u001b[0;32m---> 10\u001b[0m         file\u001b[38;5;241m.\u001b[39mwrite(\u001b[38;5;124mf\u001b[39m\u001b[38;5;124m\"\u001b[39m\u001b[38;5;132;01m{\u001b[39;00mentry\u001b[38;5;132;01m}\u001b[39;00m\u001b[38;5;124m \u001b[39m\u001b[38;5;124m\"\u001b[39m)\n\u001b[1;32m     11\u001b[0m     file\u001b[38;5;241m.\u001b[39mwrite(\u001b[38;5;124m\"\u001b[39m\u001b[38;5;130;01m\\n\u001b[39;00m\u001b[38;5;124m\"\u001b[39m)\n",
      "\u001b[0;31mKeyboardInterrupt\u001b[0m: "
     ]
    }
   ],
   "source": [
    "save_path = os.path.join(own_matrices_folder, matrix_name.split(\".\")[0])\n",
    "write_matrix_to_dense_format(matrix, save_path)"
   ]
  },
  {
   "cell_type": "markdown",
   "metadata": {},
   "source": [
    "# Generate Matrices to compute with the Sampled Matrix"
   ]
  },
  {
   "cell_type": "code",
   "execution_count": 21,
   "metadata": {},
   "outputs": [],
   "source": [
    "def check_validity(Matrix_A_Shape, Matrix_B_Shape, Sampled_Shape):\n",
    "    # Check that we can multiply the matrices A * B and get the shape of the sampled matrix\n",
    "    assert Matrix_A_Shape[1] == Matrix_B_Shape[0] \n",
    "    assert Sampled_Shape[0] == Matrix_A_Shape[0]\n",
    "    assert Sampled_Shape[1] == Matrix_B_Shape[1]\n",
    "    return True"
   ]
  },
  {
   "cell_type": "code",
   "execution_count": 19,
   "metadata": {},
   "outputs": [],
   "source": [
    "# Make dirs A and B if they do not exist\n",
    "if not os.path.exists(os.path.join(own_matrices_folder, \"A\")):\n",
    "    os.makedirs(os.path.join(own_matrices_folder, \"A\"))\n",
    "if not os.path.exists(os.path.join(own_matrices_folder, \"B\")):\n",
    "    os.makedirs(os.path.join(own_matrices_folder, \"B\"))\n",
    "\n",
    "# Path of this file\n",
    "this_dir_path = os.getcwd()\n",
    "generate_matrix_script_path = os.path.join(this_dir_path, \"generateMatrix.sh\")"
   ]
  },
  {
   "cell_type": "code",
   "execution_count": 31,
   "metadata": {},
   "outputs": [
    {
     "name": "stdout",
     "output_type": "stream",
     "text": [
      "Rough size estimate of matrix A: 575.9970703162253 GB\n",
      "Rough size estimate of matrix B: 14.648400247097015 GB\n"
     ]
    }
   ],
   "source": [
    "# Matrix Shape definitions as tuples (num_rows, num_columns)\n",
    "Matrix_A_Shape = (393215, 10000)\n",
    "Matrix_B_Shape = (10000, 393215)\n",
    "\n",
    "assert check_validity(Matrix_A_Shape, Matrix_B_Shape, matrix.shape)\n",
    "print(f\"Rough size estimate of matrix A: {Matrix_A_Shape[0] * Matrix_A_Shape[1] * 4 / 1024 / 1024 / 1024} GB\")\n",
    "print(f\"Rough size estimate of matrix B: {Matrix_B_Shape[0] * Matrix_B_Shape[1] * 4 / 1024 / 1024 / 1024} GB\")"
   ]
  },
  {
   "cell_type": "code",
   "execution_count": 24,
   "metadata": {},
   "outputs": [
    {
     "data": {
      "text/plain": [
       "'Generated matrix /scratch/eschreib/matrices/Dataset002_testing_S_name_1138_bus/B/n_100_m_1138_sparsity_1\\n'"
      ]
     },
     "execution_count": 24,
     "metadata": {},
     "output_type": "execute_result"
    }
   ],
   "source": [
    "# Generate Matrix A\n",
    "sh.bash(generate_matrix_script_path, os.path.join(own_matrices_folder, \"A\"), \"dense\", f\"{Matrix_A_Shape[0]}x{Matrix_A_Shape[1]}\")\n",
    "# Generate Matrix B\n",
    "sh.bash(generate_matrix_script_path, os.path.join(own_matrices_folder, \"B\"), \"dense\", f\"{Matrix_B_Shape[0]}x{Matrix_B_Shape[1]}\")"
   ]
  }
 ],
 "metadata": {
  "kernelspec": {
   "display_name": "ml",
   "language": "python",
   "name": "python3"
  },
  "language_info": {
   "codemirror_mode": {
    "name": "ipython",
    "version": 3
   },
   "file_extension": ".py",
   "mimetype": "text/x-python",
   "name": "python",
   "nbconvert_exporter": "python",
   "pygments_lexer": "ipython3",
   "version": "3.8.12"
  }
 },
 "nbformat": 4,
 "nbformat_minor": 2
}
