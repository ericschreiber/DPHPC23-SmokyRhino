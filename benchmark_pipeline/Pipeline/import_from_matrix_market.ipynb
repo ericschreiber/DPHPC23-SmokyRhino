{
 "cells": [
  {
   "cell_type": "markdown",
   "metadata": {},
   "source": [
    "# Import from Matrix Market\n",
    "\n",
    "Download and convert the matrix to our dense format. \n",
    "We may have problems in the future as the matrix can be very large."
   ]
  },
  {
   "cell_type": "code",
   "execution_count": 23,
   "metadata": {},
   "outputs": [],
   "source": [
    "import os\n",
    "import numpy as np"
   ]
  },
  {
   "cell_type": "code",
   "execution_count": 19,
   "metadata": {},
   "outputs": [
    {
     "name": "stderr",
     "output_type": "stream",
     "text": [
      "--2023-11-23 13:59:47--  https://suitesparse-collection-website.herokuapp.com/MM/HB/1138_bus.tar.gz\n",
      "Resolving suitesparse-collection-website.herokuapp.com (suitesparse-collection-website.herokuapp.com)... 54.208.186.182, 54.243.129.215, 34.201.81.34, ...\n",
      "Connecting to suitesparse-collection-website.herokuapp.com (suitesparse-collection-website.herokuapp.com)|54.208.186.182|:443... connected.\n",
      "HTTP request sent, awaiting response... 301 Moved Permanently\n",
      "Location: http://sparse-files.engr.tamu.edu/MM/HB/1138_bus.tar.gz [following]\n",
      "--2023-11-23 13:59:47--  http://sparse-files.engr.tamu.edu/MM/HB/1138_bus.tar.gz\n",
      "Resolving sparse-files.engr.tamu.edu (sparse-files.engr.tamu.edu)... 52.219.98.144, 52.219.92.104, 52.219.101.116, ...\n",
      "Connecting to sparse-files.engr.tamu.edu (sparse-files.engr.tamu.edu)|52.219.98.144|:80... connected.\n",
      "HTTP request sent, awaiting response... 200 OK\n",
      "Length: 19829 (19K) [application/x-tar]\n",
      "Saving to: ‘/Users/ericschreiber/dev/ETH/HPC_ETH/project/benchmark_pipeline/matrix_market/1138_bus.tar.gz.1’\n",
      "\n",
      "     0K ........."
     ]
    },
    {
     "name": "stdout",
     "output_type": "stream",
     "text": [
      "Size of the file: 19829 bytes\n"
     ]
    },
    {
     "name": "stderr",
     "output_type": "stream",
     "text": [
      ". .........                                  100%  155K=0,1s\n",
      "\n",
      "2023-11-23 13:59:47 (155 KB/s) - ‘/Users/ericschreiber/dev/ETH/HPC_ETH/project/benchmark_pipeline/matrix_market/1138_bus.tar.gz.1’ saved [19829/19829]\n",
      "\n"
     ]
    }
   ],
   "source": [
    "DATASET_NAME = \"DatasetXXX_PLEASE CHANGE ME\"\n",
    "\n",
    "link_of_matrix = (\n",
    "    \"https://suitesparse-collection-website.herokuapp.com/MM/HB/1138_bus.tar.gz\"\n",
    ")\n",
    "matrix_name = link_of_matrix.split(\"/\")[-1]\n",
    "matrix_market_folder = (\n",
    "    \"/scratch/eschreib/matrix_market_matrices\"\n",
    ")\n",
    "own_matrices_folder = (\n",
    "    \"/scratch/eschreib/matrices/\" + DATASET_NAME\n",
    ")\n",
    "\n",
    "# Download the matrix\n",
    "os.system(\"wget -P \" + matrix_market_folder + \" \" + link_of_matrix)\n",
    "\n",
    "print(\n",
    "    f\"Size of the file: {os.path.getsize(os.path.join(matrix_market_folder, matrix_name))} bytes\"\n",
    ")\n",
    "\n",
    "# Unzip the matrix into the same folder\n",
    "os.system(\n",
    "    \"tar -xf \"\n",
    "    + os.path.join(matrix_market_folder, matrix_name)\n",
    "    + \" -C \"\n",
    "    + matrix_market_folder\n",
    ")\n",
    "\n",
    "matrix_path = os.path.join(\n",
    "    matrix_market_folder, matrix_name.split(\".\")[0], matrix_name.split(\".\")[0] + \".mtx\"\n",
    ")"
   ]
  },
  {
   "cell_type": "code",
   "execution_count": 27,
   "metadata": {},
   "outputs": [],
   "source": [
    "def read_file_to_list_of_lists(file_path):\n",
    "    \"\"\"The format of the file is as follows:\n",
    "    1. Lines with % are comments\n",
    "    2. The first line contains the dimensions of the matrix (num_rows, num_columns, total_num_entries)\n",
    "    3. The following lines contain the entries of the matrix in the following format:\n",
    "        row_index column_index value\n",
    "    \"\"\"\n",
    "    with open(file_path, \"r\") as file:  # returns  tuple(list, int, int, int):\n",
    "        lines = file.readlines()\n",
    "        # Remove all comments\n",
    "        lines = [line for line in lines if not line.startswith(\"%\")]\n",
    "        # Remove all empty lines\n",
    "        lines = [line for line in lines if line.strip()]\n",
    "        # Remove the first line\n",
    "        num_rows, num_columns, total_num_entries = lines.pop(0).split(\" \")\n",
    "\n",
    "        matrix = np.zeros((int(num_rows), int(num_columns)))\n",
    "        # Remove the newline character\n",
    "        lines = [line.strip() for line in lines]\n",
    "        # Split the lines into lists\n",
    "        lines = [line.split(\" \") for line in lines]\n",
    "\n",
    "        for line in lines:\n",
    "            matrix[int(line[0]) - 1, int(line[1]) - 1] = float(line[2])\n",
    "\n",
    "        return matrix, int(num_rows), int(num_columns), int(total_num_entries)"
   ]
  },
  {
   "cell_type": "code",
   "execution_count": 33,
   "metadata": {},
   "outputs": [],
   "source": [
    "def write_matrix_to_dense_format(matrix, file_path):\n",
    "    \"\"\"Safe in dense format:\n",
    "    First line: num_rows num_columns data_type (f for float)\n",
    "    Following lines: matrix entries\n",
    "    \"\"\"\n",
    "    with open(file_path, \"w\") as file:\n",
    "        file.write(f\"{matrix.shape[0]} {matrix.shape[1]} f\\n\")\n",
    "        for row in matrix:\n",
    "            for entry in row:\n",
    "                file.write(f\"{entry} \")\n",
    "            file.write(\"\\n\")"
   ]
  },
  {
   "cell_type": "code",
   "execution_count": 35,
   "metadata": {},
   "outputs": [
    {
     "name": "stdout",
     "output_type": "stream",
     "text": [
      "Number of rows: 1138, number of columns: 1138, total number of entries: 2596\n",
      "Matrix shape: (1138, 1138)\n"
     ]
    }
   ],
   "source": [
    "matrix, num_rows, num_columns, total_num_entries = read_file_to_list_of_lists(\n",
    "    matrix_path\n",
    ")\n",
    "print(\n",
    "    f\"Number of rows: {num_rows}, number of columns: {num_columns}, total number of entries: {total_num_entries}\"\n",
    ")\n",
    "print(f\"Matrix shape: {matrix.shape}\")"
   ]
  },
  {
   "cell_type": "code",
   "execution_count": 34,
   "metadata": {},
   "outputs": [],
   "source": [
    "save_path = os.path.join(own_matrices_folder, matrix_name.split(\".\")[0])\n",
    "write_matrix_to_dense_format(matrix, save_path)"
   ]
  },
  {
   "cell_type": "code",
   "execution_count": null,
   "metadata": {},
   "outputs": [],
   "source": []
  }
 ],
 "metadata": {
  "kernelspec": {
   "display_name": "ml",
   "language": "python",
   "name": "python3"
  },
  "language_info": {
   "codemirror_mode": {
    "name": "ipython",
    "version": 3
   },
   "file_extension": ".py",
   "mimetype": "text/x-python",
   "name": "python",
   "nbconvert_exporter": "python",
   "pygments_lexer": "ipython3",
   "version": "3.10.11"
  }
 },
 "nbformat": 4,
 "nbformat_minor": 2
}
