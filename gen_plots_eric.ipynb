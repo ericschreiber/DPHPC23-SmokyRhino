{
 "cells": [
  {
   "cell_type": "code",
   "execution_count": 2,
   "metadata": {},
   "outputs": [],
   "source": [
    "import os\n"
   ]
  },
  {
   "cell_type": "code",
   "execution_count": 3,
   "metadata": {},
   "outputs": [],
   "source": [
    "# loop_path = \"/scratch/eschreib/results_full_run/coo_opt_loop_unrolled_SDDMM_GPU/1000x1000/results_1703089364646029558.csv\"\n",
    "# vec_path = \"/scratch/eschreib/results_full_run/coo_opt_vectorization_SDDMM_GPU/1000x1000/results_1703025504244038788.csv\"\n",
    "# naive_path = \"/scratch/eschreib/results_full_run/naive_coo_SDDMM_GPU/1000x1000/results_1702818428438043999.csv\"\n",
    "\n",
    "loop_path = \"/scratch/eschreib/results_full_run/coo_opt_loop_unrolled_SDDMM_GPU/10000x10000/results_1703089370690223472.csv\"\n",
    "vec_path = \"/scratch/eschreib/results_full_run/coo_opt_vectorization_SDDMM_GPU/10000x10000/results_1703025510178564224.csv\"\n",
    "naive_path = \"/scratch/eschreib/results_full_run/naive_coo_SDDMM_GPU/10000x10000/results_1702823332722624781.csv\"\n"
   ]
  },
  {
   "cell_type": "code",
   "execution_count": 4,
   "metadata": {},
   "outputs": [],
   "source": [
    "# Both files are csv with the following columns:\n",
    "# function, SparseFormat, path/to/first/dense/matrix, path/to/second/dense/matrix, path/to/first/sparse/matrix, result[0], result[1], ..., result[n]\n",
    "\n",
    "# load as list of lists, drop last item (empty line)\n",
    "loop = []\n",
    "with open(loop_path, 'r') as f:\n",
    "    for line in f:\n",
    "        loop.append(line.strip().split(',')[0:-1])\n",
    "vec = []\n",
    "with open(vec_path, 'r') as f:\n",
    "    for line in f:\n",
    "        vec.append(line.strip().split(',')[0:-1])\n",
    "naive = []\n",
    "with open(naive_path, 'r') as f:\n",
    "    for line in f:\n",
    "        naive.append(line.strip().split(',')[0:-1])\n",
    "# remove header\n",
    "loop = loop[1:]\n",
    "vec = vec[1:]\n",
    "naive = naive[1:]\n"
   ]
  },
  {
   "cell_type": "code",
   "execution_count": 5,
   "metadata": {},
   "outputs": [
    {
     "name": "stdout",
     "output_type": "stream",
     "text": [
      "[['coo_opt_loop_unrolled_SDDMM_GPU', '/scratch/eschreib/matrices/Dataset_generated_matrices/10000x10000/n_10000_m_10000_sparsity_1', '/scratch/eschreib/matrices/Dataset_generated_matrices/10000x10000/n_10000_m_10000_sparsity_1', '/scratch/eschreib/matrices/Dataset_generated_matrices/10000x10000/n_10000_m_10000_sparsity_000001.mtx', 15390382.094383366], ['coo_opt_loop_unrolled_SDDMM_GPU', '/scratch/eschreib/matrices/Dataset_generated_matrices/10000x10000/n_10000_m_10000_sparsity_1', '/scratch/eschreib/matrices/Dataset_generated_matrices/10000x10000/n_10000_m_10000_sparsity_1', '/scratch/eschreib/matrices/Dataset_generated_matrices/10000x10000/n_10000_m_10000_sparsity_00001.mtx', 17994147.891998187], ['coo_opt_loop_unrolled_SDDMM_GPU', '/scratch/eschreib/matrices/Dataset_generated_matrices/10000x10000/n_10000_m_10000_sparsity_1', '/scratch/eschreib/matrices/Dataset_generated_matrices/10000x10000/n_10000_m_10000_sparsity_1', '/scratch/eschreib/matrices/Dataset_generated_matrices/10000x10000/n_10000_m_10000_sparsity_00005.mtx', 37815557.13653567], ['coo_opt_loop_unrolled_SDDMM_GPU', '/scratch/eschreib/matrices/Dataset_generated_matrices/10000x10000/n_10000_m_10000_sparsity_1', '/scratch/eschreib/matrices/Dataset_generated_matrices/10000x10000/n_10000_m_10000_sparsity_1', '/scratch/eschreib/matrices/Dataset_generated_matrices/10000x10000/n_10000_m_10000_sparsity_0001.mtx', 67751511.07788086], ['coo_opt_loop_unrolled_SDDMM_GPU', '/scratch/eschreib/matrices/Dataset_generated_matrices/10000x10000/n_10000_m_10000_sparsity_1', '/scratch/eschreib/matrices/Dataset_generated_matrices/10000x10000/n_10000_m_10000_sparsity_1', '/scratch/eschreib/matrices/Dataset_generated_matrices/10000x10000/n_10000_m_10000_sparsity_0005.mtx', 615420136.1083984], ['coo_opt_loop_unrolled_SDDMM_GPU', '/scratch/eschreib/matrices/Dataset_generated_matrices/10000x10000/n_10000_m_10000_sparsity_1', '/scratch/eschreib/matrices/Dataset_generated_matrices/10000x10000/n_10000_m_10000_sparsity_1', '/scratch/eschreib/matrices/Dataset_generated_matrices/10000x10000/n_10000_m_10000_sparsity_001.mtx', 1239303300.1708984]]\n",
      "[['coo_opt_loop_unrolled_SDDMM_GPU', '/scratch/eschreib/matrices/Dataset_generated_matrices/10000x10000/n_10000_m_10000_sparsity_1', '/scratch/eschreib/matrices/Dataset_generated_matrices/10000x10000/n_10000_m_10000_sparsity_1', '/scratch/eschreib/matrices/Dataset_generated_matrices/10000x10000/n_10000_m_10000_sparsity_000001.mtx', 521.389107067612], ['coo_opt_loop_unrolled_SDDMM_GPU', '/scratch/eschreib/matrices/Dataset_generated_matrices/10000x10000/n_10000_m_10000_sparsity_1', '/scratch/eschreib/matrices/Dataset_generated_matrices/10000x10000/n_10000_m_10000_sparsity_1', '/scratch/eschreib/matrices/Dataset_generated_matrices/10000x10000/n_10000_m_10000_sparsity_00001.mtx', 629.8701968241019], ['coo_opt_loop_unrolled_SDDMM_GPU', '/scratch/eschreib/matrices/Dataset_generated_matrices/10000x10000/n_10000_m_10000_sparsity_1', '/scratch/eschreib/matrices/Dataset_generated_matrices/10000x10000/n_10000_m_10000_sparsity_1', '/scratch/eschreib/matrices/Dataset_generated_matrices/10000x10000/n_10000_m_10000_sparsity_00005.mtx', 1954.3189291159108], ['coo_opt_loop_unrolled_SDDMM_GPU', '/scratch/eschreib/matrices/Dataset_generated_matrices/10000x10000/n_10000_m_10000_sparsity_1', '/scratch/eschreib/matrices/Dataset_generated_matrices/10000x10000/n_10000_m_10000_sparsity_1', '/scratch/eschreib/matrices/Dataset_generated_matrices/10000x10000/n_10000_m_10000_sparsity_0001.mtx', 27413.026955507787], ['coo_opt_loop_unrolled_SDDMM_GPU', '/scratch/eschreib/matrices/Dataset_generated_matrices/10000x10000/n_10000_m_10000_sparsity_1', '/scratch/eschreib/matrices/Dataset_generated_matrices/10000x10000/n_10000_m_10000_sparsity_1', '/scratch/eschreib/matrices/Dataset_generated_matrices/10000x10000/n_10000_m_10000_sparsity_0005.mtx', 280356.46559524286], ['coo_opt_loop_unrolled_SDDMM_GPU', '/scratch/eschreib/matrices/Dataset_generated_matrices/10000x10000/n_10000_m_10000_sparsity_1', '/scratch/eschreib/matrices/Dataset_generated_matrices/10000x10000/n_10000_m_10000_sparsity_1', '/scratch/eschreib/matrices/Dataset_generated_matrices/10000x10000/n_10000_m_10000_sparsity_001.mtx', 441867.9455535145]]\n",
      "[['coo_opt_vectorization_SDDMM_GPU', '/scratch/eschreib/matrices/Dataset_generated_matrices/10000x10000/n_10000_m_10000_sparsity_1', '/scratch/eschreib/matrices/Dataset_generated_matrices/10000x10000/n_10000_m_10000_sparsity_1', '/scratch/eschreib/matrices/Dataset_generated_matrices/10000x10000/n_10000_m_10000_sparsity_001.mtx', 1062897312.6220703], ['coo_opt_vectorization_SDDMM_GPU', '/scratch/eschreib/matrices/Dataset_generated_matrices/10000x10000/n_10000_m_10000_sparsity_1', '/scratch/eschreib/matrices/Dataset_generated_matrices/10000x10000/n_10000_m_10000_sparsity_1', '/scratch/eschreib/matrices/Dataset_generated_matrices/10000x10000/n_10000_m_10000_sparsity_0005.mtx', 524622767.3339844], ['coo_opt_vectorization_SDDMM_GPU', '/scratch/eschreib/matrices/Dataset_generated_matrices/10000x10000/n_10000_m_10000_sparsity_1', '/scratch/eschreib/matrices/Dataset_generated_matrices/10000x10000/n_10000_m_10000_sparsity_1', '/scratch/eschreib/matrices/Dataset_generated_matrices/10000x10000/n_10000_m_10000_sparsity_0001.mtx', 51753727.931976326], ['coo_opt_vectorization_SDDMM_GPU', '/scratch/eschreib/matrices/Dataset_generated_matrices/10000x10000/n_10000_m_10000_sparsity_1', '/scratch/eschreib/matrices/Dataset_generated_matrices/10000x10000/n_10000_m_10000_sparsity_1', '/scratch/eschreib/matrices/Dataset_generated_matrices/10000x10000/n_10000_m_10000_sparsity_00005.mtx', 25763235.912323], ['coo_opt_vectorization_SDDMM_GPU', '/scratch/eschreib/matrices/Dataset_generated_matrices/10000x10000/n_10000_m_10000_sparsity_1', '/scratch/eschreib/matrices/Dataset_generated_matrices/10000x10000/n_10000_m_10000_sparsity_1', '/scratch/eschreib/matrices/Dataset_generated_matrices/10000x10000/n_10000_m_10000_sparsity_00001.mtx', 8081116.199493541], ['coo_opt_vectorization_SDDMM_GPU', '/scratch/eschreib/matrices/Dataset_generated_matrices/10000x10000/n_10000_m_10000_sparsity_1', '/scratch/eschreib/matrices/Dataset_generated_matrices/10000x10000/n_10000_m_10000_sparsity_1', '/scratch/eschreib/matrices/Dataset_generated_matrices/10000x10000/n_10000_m_10000_sparsity_000001.mtx', 8505815.07205959]]\n",
      "[['coo_opt_vectorization_SDDMM_GPU', '/scratch/eschreib/matrices/Dataset_generated_matrices/10000x10000/n_10000_m_10000_sparsity_1', '/scratch/eschreib/matrices/Dataset_generated_matrices/10000x10000/n_10000_m_10000_sparsity_1', '/scratch/eschreib/matrices/Dataset_generated_matrices/10000x10000/n_10000_m_10000_sparsity_001.mtx', 663497.3013626141], ['coo_opt_vectorization_SDDMM_GPU', '/scratch/eschreib/matrices/Dataset_generated_matrices/10000x10000/n_10000_m_10000_sparsity_1', '/scratch/eschreib/matrices/Dataset_generated_matrices/10000x10000/n_10000_m_10000_sparsity_1', '/scratch/eschreib/matrices/Dataset_generated_matrices/10000x10000/n_10000_m_10000_sparsity_0005.mtx', 185794.53260327416], ['coo_opt_vectorization_SDDMM_GPU', '/scratch/eschreib/matrices/Dataset_generated_matrices/10000x10000/n_10000_m_10000_sparsity_1', '/scratch/eschreib/matrices/Dataset_generated_matrices/10000x10000/n_10000_m_10000_sparsity_1', '/scratch/eschreib/matrices/Dataset_generated_matrices/10000x10000/n_10000_m_10000_sparsity_0001.mtx', 2806.6516709331213], ['coo_opt_vectorization_SDDMM_GPU', '/scratch/eschreib/matrices/Dataset_generated_matrices/10000x10000/n_10000_m_10000_sparsity_1', '/scratch/eschreib/matrices/Dataset_generated_matrices/10000x10000/n_10000_m_10000_sparsity_1', '/scratch/eschreib/matrices/Dataset_generated_matrices/10000x10000/n_10000_m_10000_sparsity_00005.mtx', 1266.9499027887173], ['coo_opt_vectorization_SDDMM_GPU', '/scratch/eschreib/matrices/Dataset_generated_matrices/10000x10000/n_10000_m_10000_sparsity_1', '/scratch/eschreib/matrices/Dataset_generated_matrices/10000x10000/n_10000_m_10000_sparsity_1', '/scratch/eschreib/matrices/Dataset_generated_matrices/10000x10000/n_10000_m_10000_sparsity_00001.mtx', 450.5418085354578], ['coo_opt_vectorization_SDDMM_GPU', '/scratch/eschreib/matrices/Dataset_generated_matrices/10000x10000/n_10000_m_10000_sparsity_1', '/scratch/eschreib/matrices/Dataset_generated_matrices/10000x10000/n_10000_m_10000_sparsity_1', '/scratch/eschreib/matrices/Dataset_generated_matrices/10000x10000/n_10000_m_10000_sparsity_000001.mtx', 402.8475882045479]]\n",
      "[['naive_coo_SDDMM_GPU', '/scratch/eschreib/matrices/Dataset_generated_matrices/10000x10000/n_10000_m_10000_sparsity_1', '/scratch/eschreib/matrices/Dataset_generated_matrices/10000x10000/n_10000_m_10000_sparsity_1', '/scratch/eschreib/matrices/Dataset_generated_matrices/10000x10000/n_10000_m_10000_sparsity_001.mtx', 1261822145.3857422], ['naive_coo_SDDMM_GPU', '/scratch/eschreib/matrices/Dataset_generated_matrices/10000x10000/n_10000_m_10000_sparsity_1', '/scratch/eschreib/matrices/Dataset_generated_matrices/10000x10000/n_10000_m_10000_sparsity_1', '/scratch/eschreib/matrices/Dataset_generated_matrices/10000x10000/n_10000_m_10000_sparsity_0005.mtx', 624651941.5283203], ['naive_coo_SDDMM_GPU', '/scratch/eschreib/matrices/Dataset_generated_matrices/10000x10000/n_10000_m_10000_sparsity_1', '/scratch/eschreib/matrices/Dataset_generated_matrices/10000x10000/n_10000_m_10000_sparsity_1', '/scratch/eschreib/matrices/Dataset_generated_matrices/10000x10000/n_10000_m_10000_sparsity_0001.mtx', 67085624.08447265], ['naive_coo_SDDMM_GPU', '/scratch/eschreib/matrices/Dataset_generated_matrices/10000x10000/n_10000_m_10000_sparsity_1', '/scratch/eschreib/matrices/Dataset_generated_matrices/10000x10000/n_10000_m_10000_sparsity_1', '/scratch/eschreib/matrices/Dataset_generated_matrices/10000x10000/n_10000_m_10000_sparsity_00005.mtx', 37156812.83950806], ['naive_coo_SDDMM_GPU', '/scratch/eschreib/matrices/Dataset_generated_matrices/10000x10000/n_10000_m_10000_sparsity_1', '/scratch/eschreib/matrices/Dataset_generated_matrices/10000x10000/n_10000_m_10000_sparsity_1', '/scratch/eschreib/matrices/Dataset_generated_matrices/10000x10000/n_10000_m_10000_sparsity_00001.mtx', 14995128.29780563], ['naive_coo_SDDMM_GPU', '/scratch/eschreib/matrices/Dataset_generated_matrices/10000x10000/n_10000_m_10000_sparsity_1', '/scratch/eschreib/matrices/Dataset_generated_matrices/10000x10000/n_10000_m_10000_sparsity_1', '/scratch/eschreib/matrices/Dataset_generated_matrices/10000x10000/n_10000_m_10000_sparsity_000001.mtx', 15459793.934822192]]\n",
      "[['naive_coo_SDDMM_GPU', '/scratch/eschreib/matrices/Dataset_generated_matrices/10000x10000/n_10000_m_10000_sparsity_1', '/scratch/eschreib/matrices/Dataset_generated_matrices/10000x10000/n_10000_m_10000_sparsity_1', '/scratch/eschreib/matrices/Dataset_generated_matrices/10000x10000/n_10000_m_10000_sparsity_001.mtx', 433077.1641864972], ['naive_coo_SDDMM_GPU', '/scratch/eschreib/matrices/Dataset_generated_matrices/10000x10000/n_10000_m_10000_sparsity_1', '/scratch/eschreib/matrices/Dataset_generated_matrices/10000x10000/n_10000_m_10000_sparsity_1', '/scratch/eschreib/matrices/Dataset_generated_matrices/10000x10000/n_10000_m_10000_sparsity_0005.mtx', 207347.26958526624], ['naive_coo_SDDMM_GPU', '/scratch/eschreib/matrices/Dataset_generated_matrices/10000x10000/n_10000_m_10000_sparsity_1', '/scratch/eschreib/matrices/Dataset_generated_matrices/10000x10000/n_10000_m_10000_sparsity_1', '/scratch/eschreib/matrices/Dataset_generated_matrices/10000x10000/n_10000_m_10000_sparsity_0001.mtx', 3715.995185457253], ['naive_coo_SDDMM_GPU', '/scratch/eschreib/matrices/Dataset_generated_matrices/10000x10000/n_10000_m_10000_sparsity_1', '/scratch/eschreib/matrices/Dataset_generated_matrices/10000x10000/n_10000_m_10000_sparsity_1', '/scratch/eschreib/matrices/Dataset_generated_matrices/10000x10000/n_10000_m_10000_sparsity_00005.mtx', 1751.5254070614794], ['naive_coo_SDDMM_GPU', '/scratch/eschreib/matrices/Dataset_generated_matrices/10000x10000/n_10000_m_10000_sparsity_1', '/scratch/eschreib/matrices/Dataset_generated_matrices/10000x10000/n_10000_m_10000_sparsity_1', '/scratch/eschreib/matrices/Dataset_generated_matrices/10000x10000/n_10000_m_10000_sparsity_00001.mtx', 785.2674574747556], ['naive_coo_SDDMM_GPU', '/scratch/eschreib/matrices/Dataset_generated_matrices/10000x10000/n_10000_m_10000_sparsity_1', '/scratch/eschreib/matrices/Dataset_generated_matrices/10000x10000/n_10000_m_10000_sparsity_1', '/scratch/eschreib/matrices/Dataset_generated_matrices/10000x10000/n_10000_m_10000_sparsity_000001.mtx', 503.26967381205]]\n"
     ]
    }
   ],
   "source": [
    "# for each row drop the first 20 results (warmup) and compute the mean of the remaining results, and std without assuming normality\n",
    "import numpy as np\n",
    "import scipy.stats as stats\n",
    "\n",
    "loop_mean = []\n",
    "loop_std = []\n",
    "for row in loop:\n",
    "    loop_mean.append([row[0], row[1], row[2], row[3], sum([float(x) for x in row[24:]])/len(row[24:])])\n",
    "    loop_std.append([row[0], row[1], row[2], row[3], stats.sem([float(x) for x in row[24:]])])\n",
    "vec_mean = []\n",
    "vec_std = []\n",
    "for row in vec:\n",
    "    vec_mean.append([row[0], row[1], row[2], row[3], sum([float(x) for x in row[24:]])/len(row[24:])])\n",
    "    vec_std.append([row[0], row[1], row[2], row[3], stats.sem([float(x) for x in row[24:]])])\n",
    "naive_mean = []\n",
    "naive_std = []\n",
    "for row in naive:\n",
    "    naive_mean.append([row[0], row[1], row[2], row[3], sum([float(x) for x in row[24:]])/len(row[24:])])\n",
    "    naive_std.append([row[0], row[1], row[2], row[3], stats.sem([float(x) for x in row[24:]])])\n",
    "\n",
    "print(loop_mean)\n",
    "print(loop_std)\n",
    "print(vec_mean)\n",
    "print(vec_std)\n",
    "print(naive_mean)\n",
    "print(naive_std)"
   ]
  },
  {
   "cell_type": "code",
   "execution_count": 16,
   "metadata": {},
   "outputs": [],
   "source": [
    "# make pandas dataframe from naive_mean, loop and vec   \n",
    "import pandas as pd\n",
    "df_loop = pd.DataFrame(loop, columns=['function',  'path/to/first/dense/matrix', 'path/to/second/dense/matrix', 'path/to/first/sparse/matrix'] + ['result' + str(i) for i in range(len(loop[0])-4)])\n",
    "df_vec = pd.DataFrame(vec, columns=['function', 'path/to/first/dense/matrix', 'path/to/second/dense/matrix', 'path/to/first/sparse/matrix'] + ['result' + str(i) for i in range(len(vec[0])-4)])\n",
    "df_naive_mean = pd.DataFrame(naive_mean, columns=['function', 'path/to/first/dense/matrix', 'path/to/second/dense/matrix', 'path/to/first/sparse/matrix', 'mean'])"
   ]
  },
  {
   "cell_type": "code",
   "execution_count": 17,
   "metadata": {},
   "outputs": [],
   "source": [
    "# merge loop and vec on the first 4 columns\n",
    "df = pd.merge(df_loop, df_vec, on=['path/to/first/sparse/matrix'], suffixes=('_loop', '_vec'))\n",
    "# merge with naive_mean\n",
    "df = pd.merge(df, df_naive_mean, on=['path/to/first/sparse/matrix'], suffixes=('', '_naive'))"
   ]
  },
  {
   "cell_type": "code",
   "execution_count": 22,
   "metadata": {},
   "outputs": [
    {
     "data": {
      "text/html": [
       "<div>\n",
       "<style scoped>\n",
       "    .dataframe tbody tr th:only-of-type {\n",
       "        vertical-align: middle;\n",
       "    }\n",
       "\n",
       "    .dataframe tbody tr th {\n",
       "        vertical-align: top;\n",
       "    }\n",
       "\n",
       "    .dataframe thead th {\n",
       "        text-align: right;\n",
       "    }\n",
       "</style>\n",
       "<table border=\"1\" class=\"dataframe\">\n",
       "  <thead>\n",
       "    <tr style=\"text-align: right;\">\n",
       "      <th></th>\n",
       "      <th>path/to/first/sparse/matrix</th>\n",
       "      <th>result0_loop</th>\n",
       "      <th>result1_loop</th>\n",
       "      <th>result2_loop</th>\n",
       "      <th>result3_loop</th>\n",
       "      <th>result4_loop</th>\n",
       "      <th>result5_loop</th>\n",
       "      <th>result6_loop</th>\n",
       "      <th>result7_loop</th>\n",
       "      <th>result8_loop</th>\n",
       "      <th>...</th>\n",
       "      <th>result211_vec</th>\n",
       "      <th>result212_vec</th>\n",
       "      <th>result213_vec</th>\n",
       "      <th>result214_vec</th>\n",
       "      <th>result215_vec</th>\n",
       "      <th>result216_vec</th>\n",
       "      <th>result217_vec</th>\n",
       "      <th>result218_vec</th>\n",
       "      <th>result219_vec</th>\n",
       "      <th>mean</th>\n",
       "    </tr>\n",
       "  </thead>\n",
       "  <tbody>\n",
       "    <tr>\n",
       "      <th>0</th>\n",
       "      <td>/scratch/eschreib/matrices/Dataset_generated_m...</td>\n",
       "      <td>15419391.632080</td>\n",
       "      <td>15392767.906189</td>\n",
       "      <td>15383551.597595</td>\n",
       "      <td>15394816.398621</td>\n",
       "      <td>15399935.722351</td>\n",
       "      <td>15371264.457703</td>\n",
       "      <td>15377408.027649</td>\n",
       "      <td>15396863.937378</td>\n",
       "      <td>15379455.566406</td>\n",
       "      <td>...</td>\n",
       "      <td>8507391.929626</td>\n",
       "      <td>8504320.144653</td>\n",
       "      <td>8511487.960815</td>\n",
       "      <td>8518655.776978</td>\n",
       "      <td>8498175.621033</td>\n",
       "      <td>8509440.422058</td>\n",
       "      <td>8503295.898438</td>\n",
       "      <td>8504320.144653</td>\n",
       "      <td>8508416.175842</td>\n",
       "      <td>1.545979e+07</td>\n",
       "    </tr>\n",
       "    <tr>\n",
       "      <th>1</th>\n",
       "      <td>/scratch/eschreib/matrices/Dataset_generated_m...</td>\n",
       "      <td>18022399.902344</td>\n",
       "      <td>17982463.836670</td>\n",
       "      <td>18012159.347534</td>\n",
       "      <td>17991680.145264</td>\n",
       "      <td>17997823.715210</td>\n",
       "      <td>17991680.145264</td>\n",
       "      <td>17982463.836670</td>\n",
       "      <td>17985536.575317</td>\n",
       "      <td>18006015.777588</td>\n",
       "      <td>...</td>\n",
       "      <td>8080384.254456</td>\n",
       "      <td>8083456.039429</td>\n",
       "      <td>8095744.132996</td>\n",
       "      <td>8077312.469482</td>\n",
       "      <td>8080384.254456</td>\n",
       "      <td>8089599.609375</td>\n",
       "      <td>8070143.699646</td>\n",
       "      <td>8075263.977051</td>\n",
       "      <td>8084480.285645</td>\n",
       "      <td>1.499513e+07</td>\n",
       "    </tr>\n",
       "    <tr>\n",
       "      <th>2</th>\n",
       "      <td>/scratch/eschreib/matrices/Dataset_generated_m...</td>\n",
       "      <td>37785343.170166</td>\n",
       "      <td>37827583.312988</td>\n",
       "      <td>37803009.033203</td>\n",
       "      <td>37791744.232178</td>\n",
       "      <td>37836799.621582</td>\n",
       "      <td>37809150.695801</td>\n",
       "      <td>37798912.048340</td>\n",
       "      <td>37819393.157959</td>\n",
       "      <td>37814273.834229</td>\n",
       "      <td>...</td>\n",
       "      <td>25772031.784058</td>\n",
       "      <td>25741312.026978</td>\n",
       "      <td>25765888.214111</td>\n",
       "      <td>25756671.905518</td>\n",
       "      <td>25769983.291626</td>\n",
       "      <td>25773056.030273</td>\n",
       "      <td>25760768.890381</td>\n",
       "      <td>25760768.890381</td>\n",
       "      <td>25750528.335571</td>\n",
       "      <td>3.715681e+07</td>\n",
       "    </tr>\n",
       "    <tr>\n",
       "      <th>3</th>\n",
       "      <td>/scratch/eschreib/matrices/Dataset_generated_m...</td>\n",
       "      <td>67649185.180664</td>\n",
       "      <td>67580924.987793</td>\n",
       "      <td>67591171.264648</td>\n",
       "      <td>67684349.060059</td>\n",
       "      <td>67647491.455078</td>\n",
       "      <td>67747840.881348</td>\n",
       "      <td>67703811.645508</td>\n",
       "      <td>67600387.573242</td>\n",
       "      <td>67717117.309570</td>\n",
       "      <td>...</td>\n",
       "      <td>51758079.528809</td>\n",
       "      <td>51746814.727783</td>\n",
       "      <td>51777534.484863</td>\n",
       "      <td>51765247.344971</td>\n",
       "      <td>51765247.344971</td>\n",
       "      <td>51782657.623291</td>\n",
       "      <td>51820545.196533</td>\n",
       "      <td>51801086.425781</td>\n",
       "      <td>51672065.734863</td>\n",
       "      <td>6.708562e+07</td>\n",
       "    </tr>\n",
       "    <tr>\n",
       "      <th>4</th>\n",
       "      <td>/scratch/eschreib/matrices/Dataset_generated_m...</td>\n",
       "      <td>617323852.539062</td>\n",
       "      <td>619478027.343750</td>\n",
       "      <td>612733947.753906</td>\n",
       "      <td>615365661.621094</td>\n",
       "      <td>611675109.863281</td>\n",
       "      <td>615388183.593750</td>\n",
       "      <td>620955627.441406</td>\n",
       "      <td>617562133.789062</td>\n",
       "      <td>622535705.566406</td>\n",
       "      <td>...</td>\n",
       "      <td>524980224.609375</td>\n",
       "      <td>523518981.933594</td>\n",
       "      <td>523953125.000000</td>\n",
       "      <td>530499572.753906</td>\n",
       "      <td>523041809.082031</td>\n",
       "      <td>527604736.328125</td>\n",
       "      <td>522921997.070312</td>\n",
       "      <td>526361572.265625</td>\n",
       "      <td>525097961.425781</td>\n",
       "      <td>6.246519e+08</td>\n",
       "    </tr>\n",
       "    <tr>\n",
       "      <th>5</th>\n",
       "      <td>/scratch/eschreib/matrices/Dataset_generated_m...</td>\n",
       "      <td>1239345581.054688</td>\n",
       "      <td>1245936645.507812</td>\n",
       "      <td>1239829467.773438</td>\n",
       "      <td>1241123779.296875</td>\n",
       "      <td>1234753540.039062</td>\n",
       "      <td>1240670166.015625</td>\n",
       "      <td>1243379760.742188</td>\n",
       "      <td>1233268676.757812</td>\n",
       "      <td>1237524536.132812</td>\n",
       "      <td>...</td>\n",
       "      <td>1068431396.484375</td>\n",
       "      <td>1063163940.429688</td>\n",
       "      <td>1070142456.054688</td>\n",
       "      <td>1054128173.828125</td>\n",
       "      <td>1053213745.117188</td>\n",
       "      <td>1057806396.484375</td>\n",
       "      <td>1076442138.671875</td>\n",
       "      <td>1060810791.015625</td>\n",
       "      <td>1064654907.226562</td>\n",
       "      <td>1.261822e+09</td>\n",
       "    </tr>\n",
       "  </tbody>\n",
       "</table>\n",
       "<p>6 rows × 442 columns</p>\n",
       "</div>"
      ],
      "text/plain": [
       "                         path/to/first/sparse/matrix       result0_loop  \\\n",
       "0  /scratch/eschreib/matrices/Dataset_generated_m...    15419391.632080   \n",
       "1  /scratch/eschreib/matrices/Dataset_generated_m...    18022399.902344   \n",
       "2  /scratch/eschreib/matrices/Dataset_generated_m...    37785343.170166   \n",
       "3  /scratch/eschreib/matrices/Dataset_generated_m...    67649185.180664   \n",
       "4  /scratch/eschreib/matrices/Dataset_generated_m...   617323852.539062   \n",
       "5  /scratch/eschreib/matrices/Dataset_generated_m...  1239345581.054688   \n",
       "\n",
       "        result1_loop       result2_loop       result3_loop       result4_loop  \\\n",
       "0    15392767.906189    15383551.597595    15394816.398621    15399935.722351   \n",
       "1    17982463.836670    18012159.347534    17991680.145264    17997823.715210   \n",
       "2    37827583.312988    37803009.033203    37791744.232178    37836799.621582   \n",
       "3    67580924.987793    67591171.264648    67684349.060059    67647491.455078   \n",
       "4   619478027.343750   612733947.753906   615365661.621094   611675109.863281   \n",
       "5  1245936645.507812  1239829467.773438  1241123779.296875  1234753540.039062   \n",
       "\n",
       "        result5_loop       result6_loop       result7_loop       result8_loop  \\\n",
       "0    15371264.457703    15377408.027649    15396863.937378    15379455.566406   \n",
       "1    17991680.145264    17982463.836670    17985536.575317    18006015.777588   \n",
       "2    37809150.695801    37798912.048340    37819393.157959    37814273.834229   \n",
       "3    67747840.881348    67703811.645508    67600387.573242    67717117.309570   \n",
       "4   615388183.593750   620955627.441406   617562133.789062   622535705.566406   \n",
       "5  1240670166.015625  1243379760.742188  1233268676.757812  1237524536.132812   \n",
       "\n",
       "   ...      result211_vec      result212_vec      result213_vec  \\\n",
       "0  ...     8507391.929626     8504320.144653     8511487.960815   \n",
       "1  ...     8080384.254456     8083456.039429     8095744.132996   \n",
       "2  ...    25772031.784058    25741312.026978    25765888.214111   \n",
       "3  ...    51758079.528809    51746814.727783    51777534.484863   \n",
       "4  ...   524980224.609375   523518981.933594   523953125.000000   \n",
       "5  ...  1068431396.484375  1063163940.429688  1070142456.054688   \n",
       "\n",
       "       result214_vec      result215_vec      result216_vec      result217_vec  \\\n",
       "0     8518655.776978     8498175.621033     8509440.422058     8503295.898438   \n",
       "1     8077312.469482     8080384.254456     8089599.609375     8070143.699646   \n",
       "2    25756671.905518    25769983.291626    25773056.030273    25760768.890381   \n",
       "3    51765247.344971    51765247.344971    51782657.623291    51820545.196533   \n",
       "4   530499572.753906   523041809.082031   527604736.328125   522921997.070312   \n",
       "5  1054128173.828125  1053213745.117188  1057806396.484375  1076442138.671875   \n",
       "\n",
       "       result218_vec      result219_vec          mean  \n",
       "0     8504320.144653     8508416.175842  1.545979e+07  \n",
       "1     8075263.977051     8084480.285645  1.499513e+07  \n",
       "2    25760768.890381    25750528.335571  3.715681e+07  \n",
       "3    51801086.425781    51672065.734863  6.708562e+07  \n",
       "4   526361572.265625   525097961.425781  6.246519e+08  \n",
       "5  1060810791.015625  1064654907.226562  1.261822e+09  \n",
       "\n",
       "[6 rows x 442 columns]"
      ]
     },
     "execution_count": 22,
     "metadata": {},
     "output_type": "execute_result"
    }
   ],
   "source": [
    "df"
   ]
  },
  {
   "cell_type": "code",
   "execution_count": 25,
   "metadata": {},
   "outputs": [],
   "source": [
    "# drop all columns function_loop, function_vec, function, path/to/first/dense/matrix_loop, path/to/first/dense/matrix_vec, path/to/second/dense/matrix_loop, path/to/second/dense/matrix_vec, path/to/first/dense/matrix, path/to/second/dense/matrix\n",
    "# df = df.drop(['function_loop', 'function_vec', 'function', 'path/to/first/dense/matrix_loop', 'path/to/first/dense/matrix_vec', 'path/to/second/dense/matrix_loop', 'path/to/second/dense/matrix_vec', 'path/to/first/dense/matrix', 'path/to/second/dense/matrix'], axis=1)\n",
    "#convert all cols except path/to/first/sparse/matrix to float\n",
    "df.iloc[:,1:] = df.iloc[:,1:].astype(float)\n",
    "# from each result remove the mean of the naive\n",
    "for i in range(1, len(df.columns)-1):\n",
    "    df.iloc[:,i] = (df.iloc[:,i] - df.iloc[:,-1]) / df.iloc[:,-1] * 100 \n"
   ]
  },
  {
   "cell_type": "code",
   "execution_count": 29,
   "metadata": {},
   "outputs": [],
   "source": [
    "# make a seaborn bar plot with the mean and std of the results\n",
    "import seaborn as sns\n",
    "import matplotlib.pyplot as plt\n",
    "\n",
    "# get all resultX_loop columns and the first\n",
    "data_loop = df.filter(regex='_loop$', axis=1)\n",
    "data_loop = pd.concat([df.iloc[:,0], data_loop], axis=1)\n",
    "\n",
    "# get all resultX_vec columns and the first\n",
    "data_vec = df.filter(regex='_vec$', axis=1)\n",
    "data_vec = pd.concat([df.iloc[:,0], data_vec], axis=1)\n"
   ]
  },
  {
   "cell_type": "code",
   "execution_count": 39,
   "metadata": {},
   "outputs": [],
   "source": [
    "# make cols from the rows and rows from the cols\n",
    "data_loop = data_loop.transpose()"
   ]
  },
  {
   "cell_type": "code",
   "execution_count": 73,
   "metadata": {},
   "outputs": [
    {
     "name": "stdout",
     "output_type": "stream",
     "text": [
      "n_10000_m_10000_sparsity_000001.mtx\n",
      "n_10000_m_10000_sparsity_00001.mtx\n",
      "n_10000_m_10000_sparsity_00005.mtx\n",
      "n_10000_m_10000_sparsity_0001.mtx\n",
      "n_10000_m_10000_sparsity_0005.mtx\n",
      "n_10000_m_10000_sparsity_001.mtx\n"
     ]
    }
   ],
   "source": [
    "for value in  data_loop[\"path/to/first/sparse/matrix\"].values:\n",
    "    print(value.split('/')[-1])"
   ]
  },
  {
   "cell_type": "code",
   "execution_count": 54,
   "metadata": {},
   "outputs": [],
   "source": [
    "# mean of each row  except the first\n",
    "data_loop_mean = data_loop.iloc[:, 1:].mean(axis=1)\n",
    "data_vec_mean = data_vec.iloc[:, 1:].mean(axis=1)"
   ]
  },
  {
   "cell_type": "code",
   "execution_count": 53,
   "metadata": {},
   "outputs": [
    {
     "data": {
      "image/png": "[encoded data removed]",
      "text/plain": [
       "<Figure size 2000x1000 with 1 Axes>"
      ]
     },
     "metadata": {},
     "output_type": "display_data"
    }
   ],
   "source": [
    "# plot the mean of all columns of a row. Each row is a new bar with name in the first column\n",
    "plt.figure(figsize=(20,10))\n",
    "sns.barplot(x=data_loop_mean.index, y=data_loop_mean.values, estimator='median', errorbar=('ci',98))\n",
    "plt.xticks(rotation=90)\n",
    "plt.ylabel('Speedup loop vs naive [%]')\n",
    "\n",
    "plt.show()\n",
    "\n"
   ]
  },
  {
   "cell_type": "code",
   "execution_count": 55,
   "metadata": {},
   "outputs": [
    {
     "data": {
      "image/png": "[encoded data removed]",
      "text/plain": [
       "<Figure size 2000x1000 with 1 Axes>"
      ]
     },
     "metadata": {},
     "output_type": "display_data"
    }
   ],
   "source": [
    "# plot the same for vec\n",
    "plt.figure(figsize=(20,10))\n",
    "sns.barplot(x=data_vec_mean.index, y=data_vec_mean.values, estimator='median', errorbar=('ci',98))\n",
    "plt.xticks(rotation=90)\n",
    "plt.ylabel('Speedup vectorization vs naive [%]')\n",
    "plt.show()\n"
   ]
  },
  {
   "cell_type": "code",
   "execution_count": null,
   "metadata": {},
   "outputs": [],
   "source": []
  },
  {
   "cell_type": "code",
   "execution_count": null,
   "metadata": {},
   "outputs": [],
   "source": []
  },
  {
   "cell_type": "code",
   "execution_count": 56,
   "metadata": {},
   "outputs": [],
   "source": [
    "# convert to pandas dataframe\n",
    "import pandas as pd\n",
    "loop_mean_df = pd.DataFrame(loop_mean, columns=['function', 'SparseFormat', 'path/to/first/dense/matrix', 'path/to/second/dense/matrix', 'mean'])\n",
    "vec_mean_df = pd.DataFrame(vec_mean, columns=['function', 'SparseFormat', 'path/to/first/dense/matrix', 'path/to/second/dense/matrix', 'mean'])\n",
    "naive_mean_df = pd.DataFrame(naive_mean, columns=['function', 'SparseFormat', 'path/to/first/dense/matrix', 'path/to/second/dense/matrix', 'mean'])\n",
    "\n",
    "loop_std_df = pd.DataFrame(loop_std, columns=['function', 'SparseFormat', 'path/to/first/dense/matrix', 'path/to/second/dense/matrix', 'std'])\n",
    "vec_std_df = pd.DataFrame(vec_std, columns=['function', 'SparseFormat', 'path/to/first/dense/matrix', 'path/to/second/dense/matrix', 'std'])\n",
    "naive_std_df = pd.DataFrame(naive_std, columns=['function', 'SparseFormat', 'path/to/first/dense/matrix', 'path/to/second/dense/matrix', 'std'])\n",
    "\n",
    "# merge mean and std\n",
    "loop_df = pd.merge(loop_mean_df, loop_std_df, on=['path/to/second/dense/matrix'])[['path/to/second/dense/matrix', 'std' , 'mean']]\n",
    "vec_df = pd.merge(vec_mean_df, vec_std_df, on=['path/to/second/dense/matrix'])[['path/to/second/dense/matrix', 'std' , 'mean']]\n",
    "naive_df = pd.merge(naive_mean_df, naive_std_df, on=['path/to/second/dense/matrix'])[['path/to/second/dense/matrix', 'std' , 'mean']]\n"
   ]
  },
  {
   "cell_type": "code",
   "execution_count": 57,
   "metadata": {},
   "outputs": [],
   "source": [
    "# merge dataframes on path/to/second/dense/matrix\n",
    "merged = loop_df.merge(vec_df, on=['path/to/second/dense/matrix'], suffixes=('_loop', '_vec'))\n",
    "merged = merged.merge(naive_df, on=['path/to/second/dense/matrix'], suffixes=('_merged', '_naive'))\n",
    "# rename mean to mean_naive\n",
    "merged = merged.rename(columns={'mean': 'mean_naive'})\n",
    "merged = merged.rename(columns={'std': 'std_naive'})\n",
    "\n",
    "# drop all cols except mean\n",
    "merged = merged[['mean_loop', 'mean_vec', 'mean_naive', 'std_loop', 'std_vec', 'std_naive']]\n"
   ]
  },
  {
   "cell_type": "code",
   "execution_count": 58,
   "metadata": {},
   "outputs": [],
   "source": [
    "# calculate the speedup of loop over naive and vec over naive\n",
    "merged['speedup_loop'] = (1 /( merged['mean_naive'] / merged['mean_loop'] )) *100\n",
    "merged['speedup_vec'] = (1 / (merged['mean_naive'] / merged['mean_vec'])) * 100\n",
    "\n",
    "# calculate the standard error of the speedup\n",
    "merged['std_error_loop'] = merged['speedup_loop'] * np.sqrt((merged['std_loop']/merged['mean_loop'])**2 + (merged['std_naive']/merged['mean_naive'])**2)\n",
    "merged['std_error_vec'] = merged['speedup_vec'] * np.sqrt((merged['std_vec']/merged['mean_vec'])**2 + (merged['std_naive']/merged['mean_naive'])**2)\n"
   ]
  },
  {
   "cell_type": "code",
   "execution_count": 59,
   "metadata": {},
   "outputs": [
    {
     "data": {
      "text/html": [
       "<div>\n",
       "<style scoped>\n",
       "    .dataframe tbody tr th:only-of-type {\n",
       "        vertical-align: middle;\n",
       "    }\n",
       "\n",
       "    .dataframe tbody tr th {\n",
       "        vertical-align: top;\n",
       "    }\n",
       "\n",
       "    .dataframe thead th {\n",
       "        text-align: right;\n",
       "    }\n",
       "</style>\n",
       "<table border=\"1\" class=\"dataframe\">\n",
       "  <thead>\n",
       "    <tr style=\"text-align: right;\">\n",
       "      <th></th>\n",
       "      <th>mean_loop</th>\n",
       "      <th>mean_vec</th>\n",
       "      <th>mean_naive</th>\n",
       "      <th>std_loop</th>\n",
       "      <th>std_vec</th>\n",
       "      <th>std_naive</th>\n",
       "      <th>speedup_loop</th>\n",
       "      <th>speedup_vec</th>\n",
       "      <th>std_error_loop</th>\n",
       "      <th>std_error_vec</th>\n",
       "    </tr>\n",
       "  </thead>\n",
       "  <tbody>\n",
       "    <tr>\n",
       "      <th>0</th>\n",
       "      <td>1.539038e+07</td>\n",
       "      <td>8.505815e+06</td>\n",
       "      <td>1.545979e+07</td>\n",
       "      <td>521.389107</td>\n",
       "      <td>402.847588</td>\n",
       "      <td>503.269674</td>\n",
       "      <td>99.551017</td>\n",
       "      <td>55.018942</td>\n",
       "      <td>0.004677</td>\n",
       "      <td>0.003162</td>\n",
       "    </tr>\n",
       "    <tr>\n",
       "      <th>1</th>\n",
       "      <td>1.799415e+07</td>\n",
       "      <td>8.081116e+06</td>\n",
       "      <td>1.499513e+07</td>\n",
       "      <td>629.870197</td>\n",
       "      <td>450.541809</td>\n",
       "      <td>785.267457</td>\n",
       "      <td>119.999960</td>\n",
       "      <td>53.891611</td>\n",
       "      <td>0.007559</td>\n",
       "      <td>0.004122</td>\n",
       "    </tr>\n",
       "    <tr>\n",
       "      <th>2</th>\n",
       "      <td>3.781556e+07</td>\n",
       "      <td>2.576324e+07</td>\n",
       "      <td>3.715681e+07</td>\n",
       "      <td>1954.318929</td>\n",
       "      <td>1266.949903</td>\n",
       "      <td>1751.525407</td>\n",
       "      <td>101.772876</td>\n",
       "      <td>69.336506</td>\n",
       "      <td>0.007119</td>\n",
       "      <td>0.004723</td>\n",
       "    </tr>\n",
       "    <tr>\n",
       "      <th>3</th>\n",
       "      <td>6.775151e+07</td>\n",
       "      <td>5.175373e+07</td>\n",
       "      <td>6.708562e+07</td>\n",
       "      <td>27413.026956</td>\n",
       "      <td>2806.651671</td>\n",
       "      <td>3715.995185</td>\n",
       "      <td>100.992593</td>\n",
       "      <td>77.145780</td>\n",
       "      <td>0.041244</td>\n",
       "      <td>0.005980</td>\n",
       "    </tr>\n",
       "    <tr>\n",
       "      <th>4</th>\n",
       "      <td>6.154201e+08</td>\n",
       "      <td>5.246228e+08</td>\n",
       "      <td>6.246519e+08</td>\n",
       "      <td>280356.465595</td>\n",
       "      <td>185794.532603</td>\n",
       "      <td>207347.269585</td>\n",
       "      <td>98.522088</td>\n",
       "      <td>83.986414</td>\n",
       "      <td>0.055533</td>\n",
       "      <td>0.040766</td>\n",
       "    </tr>\n",
       "    <tr>\n",
       "      <th>5</th>\n",
       "      <td>1.239303e+09</td>\n",
       "      <td>1.062897e+09</td>\n",
       "      <td>1.261822e+09</td>\n",
       "      <td>441867.945554</td>\n",
       "      <td>663497.301363</td>\n",
       "      <td>433077.164186</td>\n",
       "      <td>98.215371</td>\n",
       "      <td>84.235113</td>\n",
       "      <td>0.048606</td>\n",
       "      <td>0.060006</td>\n",
       "    </tr>\n",
       "  </tbody>\n",
       "</table>\n",
       "</div>"
      ],
      "text/plain": [
       "      mean_loop      mean_vec    mean_naive       std_loop        std_vec  \\\n",
       "0  1.539038e+07  8.505815e+06  1.545979e+07     521.389107     402.847588   \n",
       "1  1.799415e+07  8.081116e+06  1.499513e+07     629.870197     450.541809   \n",
       "2  3.781556e+07  2.576324e+07  3.715681e+07    1954.318929    1266.949903   \n",
       "3  6.775151e+07  5.175373e+07  6.708562e+07   27413.026956    2806.651671   \n",
       "4  6.154201e+08  5.246228e+08  6.246519e+08  280356.465595  185794.532603   \n",
       "5  1.239303e+09  1.062897e+09  1.261822e+09  441867.945554  663497.301363   \n",
       "\n",
       "       std_naive  speedup_loop  speedup_vec  std_error_loop  std_error_vec  \n",
       "0     503.269674     99.551017    55.018942        0.004677       0.003162  \n",
       "1     785.267457    119.999960    53.891611        0.007559       0.004122  \n",
       "2    1751.525407    101.772876    69.336506        0.007119       0.004723  \n",
       "3    3715.995185    100.992593    77.145780        0.041244       0.005980  \n",
       "4  207347.269585     98.522088    83.986414        0.055533       0.040766  \n",
       "5  433077.164186     98.215371    84.235113        0.048606       0.060006  "
      ]
     },
     "execution_count": 59,
     "metadata": {},
     "output_type": "execute_result"
    }
   ],
   "source": [
    "merged"
   ]
  },
  {
   "cell_type": "code",
   "execution_count": 60,
   "metadata": {},
   "outputs": [
    {
     "data": {
      "image/png": "[encoded data removed]",
      "text/plain": [
       "<Figure size 800x600 with 1 Axes>"
      ]
     },
     "metadata": {},
     "output_type": "display_data"
    }
   ],
   "source": [
    "import seaborn as sns\n",
    "import matplotlib.pyplot as plt\n",
    "\n",
    "# plot the speedup of loop over naive \n",
    "sns.set_style(\"whitegrid\")\n",
    "plt.figure(figsize=(8, 6))\n",
    "data = merged[['speedup_loop', 'std_error_loop']]\n",
    "data.columns = ['speedup', 'std_error']\n",
    "sns.barplot(x=data.index, y='speedup', data=data)\n",
    "plt.title(\"Speedup of loop over naive\")\n",
    "plt.xlabel(\"Matrix\")\n",
    "plt.ylabel(\"Speedup\")\n",
    "plt.show()\n",
    "\n"
   ]
  },
  {
   "cell_type": "code",
   "execution_count": 61,
   "metadata": {},
   "outputs": [
    {
     "data": {
      "image/png": "[encoded data removed]",
      "text/plain": [
       "<Figure size 800x600 with 1 Axes>"
      ]
     },
     "metadata": {},
     "output_type": "display_data"
    }
   ],
   "source": [
    "import seaborn as sns\n",
    "import matplotlib.pyplot as plt\n",
    "\n",
    "# plot the speedup of loop over naive \n",
    "sns.set_style(\"whitegrid\")\n",
    "plt.figure(figsize=(8, 6))\n",
    "data = merged[['speedup_vec', 'std_error_vec']]\n",
    "data.columns = ['speedup', 'std_error']\n",
    "sns.barplot(x=data.index, y='speedup', data=data)\n",
    "plt.title(\"Speedup of vectorization over naive\")\n",
    "plt.xlabel(\"Matrix\")\n",
    "plt.ylabel(\"Speedup\")\n",
    "plt.show()"
   ]
  },
  {
   "cell_type": "code",
   "execution_count": 69,
   "metadata": {},
   "outputs": [
    {
     "name": "stderr",
     "output_type": "stream",
     "text": [
      "/tmp/ipykernel_916030/1790290298.py:5: FutureWarning: \n",
      "\n",
      "Passing `palette` without assigning `hue` is deprecated and will be removed in v0.14.0. Assign the `x` variable to `hue` and set `legend=False` for the same effect.\n",
      "\n",
      "  sns.barplot(x=data.index, y='speedup_loop', data=data, color='blue', label='loop', palette='muted')\n",
      "/tmp/ipykernel_916030/1790290298.py:6: FutureWarning: \n",
      "\n",
      "Passing `palette` without assigning `hue` is deprecated and will be removed in v0.14.0. Assign the `x` variable to `hue` and set `legend=False` for the same effect.\n",
      "\n",
      "  sns.barplot(x=data.index, y='speedup_vec', data=data, color='red', label='vectorization', palette='bright')\n"
     ]
    },
    {
     "data": {
      "image/png": "[encoded data removed]",
      "text/plain": [
       "<Figure size 800x600 with 1 Axes>"
      ]
     },
     "metadata": {},
     "output_type": "display_data"
    }
   ],
   "source": [
    "# combine both plots and stack each bar next to each other\n",
    "sns.set_style(\"whitegrid\")\n",
    "plt.figure(figsize=(8, 6))\n",
    "data = merged[['speedup_loop', 'speedup_vec', 'std_error_loop', 'std_error_vec']]\n",
    "sns.barplot(x=data.index, y='speedup_loop', data=data, color='blue', label='loop', palette='muted')\n",
    "sns.barplot(x=data.index, y='speedup_vec', data=data, color='red', label='vectorization', palette='bright')\n",
    "plt.title(\"Speedup of loop and vectorization over naive\")\n",
    "plt.xlabel(\"Matrix\")\n",
    "plt.ylabel(\"Speedup\")\n",
    "plt.show()"
   ]
  }
 ],
 "metadata": {
  "kernelspec": {
   "display_name": "dphpc",
   "language": "python",
   "name": "python3"
  },
  "language_info": {
   "codemirror_mode": {
    "name": "ipython",
    "version": 3
   },
   "file_extension": ".py",
   "mimetype": "text/x-python",
   "name": "python",
   "nbconvert_exporter": "python",
   "pygments_lexer": "ipython3",
   "version": "3.8.12"
  }
 },
 "nbformat": 4,
 "nbformat_minor": 2
}
