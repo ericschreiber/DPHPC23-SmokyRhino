{
 "cells": [
  {
   "cell_type": "markdown",
   "metadata": {},
   "source": [
    "# Import from Matrix Market\n",
    "\n",
    "Download and convert the matrix to our dense format. \n",
    "We may have problems in the future as the matrix can be very large."
   ]
  },
  {
   "cell_type": "markdown",
   "metadata": {},
   "source": [
    "TODO: Change Dataset Name, link of matrix and the sizes of the matrices A & B that should be produced"
   ]
  },
  {
   "cell_type": "code",
   "execution_count": 2,
   "metadata": {},
   "outputs": [],
   "source": [
    "import os\n",
    "import numpy as np\n",
    "import sh"
   ]
  },
  {
   "cell_type": "code",
   "execution_count": 3,
   "metadata": {},
   "outputs": [
    {
     "name": "stderr",
     "output_type": "stream",
     "text": [
      "--2023-12-18 19:45:25--  https://suitesparse-collection-website.herokuapp.com/MM/Schenk_IBMNA/c-41.tar.gz\n",
      "Resolving suitesparse-collection-website.herokuapp.com (suitesparse-collection-website.herokuapp.com)... 54.208.186.182, 54.243.129.215, 54.224.34.30, ...\n",
      "Connecting to suitesparse-collection-website.herokuapp.com (suitesparse-collection-website.herokuapp.com)|54.208.186.182|:443... connected.\n",
      "HTTP request sent, awaiting response... 301 Moved Permanently\n",
      "Location: http://sparse-files.engr.tamu.edu/MM/Schenk_IBMNA/c-41.tar.gz [following]\n",
      "--2023-12-18 19:45:25--  http://sparse-files.engr.tamu.edu/MM/Schenk_IBMNA/c-41.tar.gz\n",
      "Resolving sparse-files.engr.tamu.edu (sparse-files.engr.tamu.edu)... 52.219.92.120, 16.12.65.8, 52.219.93.16, ...\n",
      "Connecting to sparse-files.engr.tamu.edu (sparse-files.engr.tamu.edu)|52.219.92.120|:80... connected.\n",
      "HTTP request sent, awaiting response... 200 OK\n",
      "Length: 521694 (509K) [application/x-tar]\n",
      "Saving to: ‘/scratch/eschreib/matrix_market_matrices/c-41.tar.gz’\n",
      "\n",
      "     0K .......... .......... .......... .......... ..........  9%  228K 2s\n",
      "    50K .......... .......... .......... .......... .......... 19% 6.97M 1s\n",
      "   100K .......... .......... .......... .......... .......... 29%  481K 1s\n",
      "   150K .......... .......... .......... .......... .......... 39% 7.57M 1s\n",
      "   200K .......... .......... .......... .......... .......... 49%  483K 0s\n",
      "   250K .......... .......... .......... .......... .......... 58% 72.9M 0s\n",
      "   300K .......... .......... .......... .......... .......... 68%  199M 0s\n",
      "   350K .......... .......... .......... .......... .......... 78% 8.36M 0s\n",
      "   400K .......... .......... .......... .......... .......... 88% 95.7M 0s\n",
      "   450K .......... .......... .......... .......... .......... 98%  485K 0s\n",
      "   500K .........                                             100%  142M=0.6s\n",
      "\n",
      "2023-12-18 19:45:28 (925 KB/s) - ‘/scratch/eschreib/matrix_market_matrices/c-41.tar.gz’ saved [521694/521694]\n",
      "\n"
     ]
    },
    {
     "name": "stdout",
     "output_type": "stream",
     "text": [
      "Size of the file: 521694 bytes\n"
     ]
    }
   ],
   "source": [
    "DATASET_NAME = \"Dataset013_c-14\"\n",
    "\n",
    "link_of_matrix = (\n",
    "    \"https://suitesparse-collection-website.herokuapp.com/MM/Schenk_IBMNA/c-41.tar.gz\"\n",
    ")\n",
    "matrix_name = link_of_matrix.split(\"/\")[-1]\n",
    "matrix_market_folder = (\n",
    "    \"/scratch/eschreib/matrix_market_matrices\"\n",
    ")\n",
    "own_matrices_folder = (\n",
    "    \"/scratch/eschreib/matrices/\" + DATASET_NAME\n",
    ")\n",
    "# Make the own_matrices_folder if it does not exist\n",
    "if not os.path.exists(own_matrices_folder):\n",
    "    os.makedirs(own_matrices_folder)\n",
    "\n",
    "\n",
    "matrix_path = os.path.join(\n",
    "    matrix_market_folder, matrix_name.split(\".\")[0], matrix_name.split(\".\")[0] + \".mtx\"\n",
    ")\n",
    "# Check if the matrix is already downloaded\n",
    "if not os.path.exists(matrix_path):\n",
    "    # Download the matrix\n",
    "    os.system(\"wget -P \" + matrix_market_folder + \" \" + link_of_matrix)\n",
    "\n",
    "    print(\n",
    "        f\"Size of the file: {os.path.getsize(os.path.join(matrix_market_folder, matrix_name))} bytes\"\n",
    "    )\n",
    "\n",
    "    # Unzip the matrix into the same folder\n",
    "    os.system(\n",
    "        \"tar -xf \"\n",
    "        + os.path.join(matrix_market_folder, matrix_name)\n",
    "        + \" -C \"\n",
    "        + matrix_market_folder\n",
    "    )\n",
    "else:\n",
    "    print(f\"Matrix already downloaded, check {matrix_path}\")"
   ]
  },
  {
   "cell_type": "code",
   "execution_count": 4,
   "metadata": {},
   "outputs": [],
   "source": [
    "def read_file_to_list_of_lists(file_path):\n",
    "    \"\"\"The format of the file is as follows:\n",
    "    1. Lines with % are comments\n",
    "    2. The first line contains the dimensions of the matrix (num_rows, num_columns, total_num_entries)\n",
    "    3. The following lines contain the entries of the matrix in the following format:\n",
    "        row_index column_index value\n",
    "    \"\"\"\n",
    "    with open(file_path, \"r\") as file:  # returns  tuple(list, int, int, int):\n",
    "        lines = file.readlines()\n",
    "        # Remove all comments\n",
    "        lines = [line for line in lines if not line.startswith(\"%\")]\n",
    "        # Remove all empty lines\n",
    "        lines = [line for line in lines if line.strip()]\n",
    "        # Remove the first line\n",
    "        num_rows, num_columns, total_num_entries = lines.pop(0).split(\" \")\n",
    "\n",
    "        matrix = np.zeros((int(num_rows), int(num_columns)))\n",
    "        # Remove the newline character\n",
    "        lines = [line.strip() for line in lines]\n",
    "        # Split the lines into lists\n",
    "        lines = [line.split(\" \") for line in lines]\n",
    "\n",
    "        for line in lines:\n",
    "            matrix[int(line[0]) - 1, int(line[1]) - 1] = float(line[2])\n",
    "\n",
    "        return matrix, int(num_rows), int(num_columns), int(total_num_entries)"
   ]
  },
  {
   "cell_type": "code",
   "execution_count": 5,
   "metadata": {},
   "outputs": [],
   "source": [
    "def write_matrix_to_dense_format(matrix, file_path):\n",
    "    \"\"\"Safe in dense format:\n",
    "    First line: num_rows num_columns data_type (f for float)\n",
    "    Following lines: matrix entries\n",
    "    \"\"\"\n",
    "    with open(file_path, \"w\") as file:\n",
    "        file.write(f\"{matrix.shape[0]} {matrix.shape[1]} f\\n\")\n",
    "        for row in matrix:\n",
    "            for entry in row:\n",
    "                file.write(f\"{entry} \")\n",
    "            file.write(\"\\n\")"
   ]
  },
  {
   "cell_type": "code",
   "execution_count": 6,
   "metadata": {},
   "outputs": [
    {
     "name": "stdout",
     "output_type": "stream",
     "text": [
      "Number of rows: 9769, number of columns: 9769, total number of entries: 55757\n",
      "Matrix shape: (9769, 9769)\n"
     ]
    }
   ],
   "source": [
    "matrix, num_rows, num_columns, total_num_entries = read_file_to_list_of_lists(\n",
    "    matrix_path\n",
    ")\n",
    "print(\n",
    "    f\"Number of rows: {num_rows}, number of columns: {num_columns}, total number of entries: {total_num_entries}\"\n",
    ")\n",
    "print(f\"Matrix shape: {matrix.shape}\")"
   ]
  },
  {
   "cell_type": "code",
   "execution_count": 7,
   "metadata": {},
   "outputs": [],
   "source": [
    "save_path = os.path.join(own_matrices_folder, matrix_name.split(\".\")[0])\n",
    "write_matrix_to_dense_format(matrix, save_path)"
   ]
  },
  {
   "cell_type": "markdown",
   "metadata": {},
   "source": [
    "# Generate Matrices to compute with the Sampled Matrix"
   ]
  },
  {
   "cell_type": "code",
   "execution_count": 21,
   "metadata": {},
   "outputs": [],
   "source": [
    "def check_validity(Matrix_A_Shape, Matrix_B_Shape, Sampled_Shape):\n",
    "    # Check that we can multiply the matrices A * B and get the shape of the sampled matrix\n",
    "    assert Matrix_A_Shape[1] == Matrix_B_Shape[0] \n",
    "    assert Sampled_Shape[0] == Matrix_A_Shape[0]\n",
    "    assert Sampled_Shape[1] == Matrix_B_Shape[1]\n",
    "    return True"
   ]
  },
  {
   "cell_type": "code",
   "execution_count": 19,
   "metadata": {},
   "outputs": [],
   "source": [
    "# Make dirs A and B if they do not exist\n",
    "if not os.path.exists(os.path.join(own_matrices_folder, \"A\")):\n",
    "    os.makedirs(os.path.join(own_matrices_folder, \"A\"))\n",
    "if not os.path.exists(os.path.join(own_matrices_folder, \"B\")):\n",
    "    os.makedirs(os.path.join(own_matrices_folder, \"B\"))\n",
    "\n",
    "# Path of this file\n",
    "this_dir_path = os.getcwd()\n",
    "generate_matrix_script_path = os.path.join(this_dir_path, \"generateMatrix.sh\")"
   ]
  },
  {
   "cell_type": "code",
   "execution_count": 31,
   "metadata": {},
   "outputs": [
    {
     "name": "stdout",
     "output_type": "stream",
     "text": [
      "Rough size estimate of matrix A: 575.9970703162253 GB\n",
      "Rough size estimate of matrix B: 14.648400247097015 GB\n"
     ]
    }
   ],
   "source": [
    "# Matrix Shape definitions as tuples (num_rows, num_columns)\n",
    "Matrix_A_Shape = (393215, 10000)\n",
    "Matrix_B_Shape = (10000, 393215)\n",
    "\n",
    "assert check_validity(Matrix_A_Shape, Matrix_B_Shape, matrix.shape)\n",
    "print(f\"Rough size estimate of matrix A: {Matrix_A_Shape[0] * Matrix_A_Shape[1] * 4 / 1024 / 1024 / 1024} GB\")\n",
    "print(f\"Rough size estimate of matrix B: {Matrix_B_Shape[0] * Matrix_B_Shape[1] * 4 / 1024 / 1024 / 1024} GB\")"
   ]
  },
  {
   "cell_type": "code",
   "execution_count": 24,
   "metadata": {},
   "outputs": [
    {
     "data": {
      "text/plain": [
       "'Generated matrix /scratch/eschreib/matrices/Dataset002_testing_S_name_1138_bus/B/n_100_m_1138_sparsity_1\\n'"
      ]
     },
     "execution_count": 24,
     "metadata": {},
     "output_type": "execute_result"
    }
   ],
   "source": [
    "# Generate Matrix A\n",
    "sh.bash(generate_matrix_script_path, os.path.join(own_matrices_folder, \"A\"), \"dense\", f\"{Matrix_A_Shape[0]}x{Matrix_A_Shape[1]}\")\n",
    "# Generate Matrix B\n",
    "sh.bash(generate_matrix_script_path, os.path.join(own_matrices_folder, \"B\"), \"dense\", f\"{Matrix_B_Shape[0]}x{Matrix_B_Shape[1]}\")"
   ]
  }
 ],
 "metadata": {
  "kernelspec": {
   "display_name": "ml",
   "language": "python",
   "name": "python3"
  },
  "language_info": {
   "codemirror_mode": {
    "name": "ipython",
    "version": 3
   },
   "file_extension": ".py",
   "mimetype": "text/x-python",
   "name": "python",
   "nbconvert_exporter": "python",
   "pygments_lexer": "ipython3",
   "version": "3.8.12"
  }
 },
 "nbformat": 4,
 "nbformat_minor": 2
}
